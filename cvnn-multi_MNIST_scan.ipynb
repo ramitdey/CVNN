{
 "cells": [
  {
   "cell_type": "code",
   "execution_count": 1,
   "id": "31c016cc-8a04-4434-854e-3f5f02456219",
   "metadata": {},
   "outputs": [],
   "source": [
    "import numpy as np\n",
    "import pandas as pd\n",
    "from scipy.linalg import expm\n",
    "\n",
    "from scipy.io import loadmat\n",
    "import matplotlib.pyplot as plt\n",
    "\n",
    "import time\n",
    "\n",
    "from tqdm import tqdm\n",
    "\n",
    "\n",
    "#sferdgew"
   ]
  },
  {
   "cell_type": "code",
   "execution_count": 2,
   "id": "bd737d3c-69fb-4c19-82d9-886def83c63b",
   "metadata": {},
   "outputs": [
    {
     "name": "stderr",
     "output_type": "stream",
     "text": [
      "2024-11-08 13:56:01.076624: I tensorflow/core/platform/cpu_feature_guard.cc:193] This TensorFlow binary is optimized with oneAPI Deep Neural Network Library (oneDNN) to use the following CPU instructions in performance-critical operations:  AVX2 FMA\n",
      "To enable them in other operations, rebuild TensorFlow with the appropriate compiler flags.\n",
      "2024-11-08 13:56:02.391711: W tensorflow/compiler/xla/stream_executor/platform/default/dso_loader.cc:64] Could not load dynamic library 'libnvinfer.so.7'; dlerror: libnvinfer.so.7: cannot open shared object file: No such file or directory\n",
      "2024-11-08 13:56:02.393300: W tensorflow/compiler/xla/stream_executor/platform/default/dso_loader.cc:64] Could not load dynamic library 'libnvinfer_plugin.so.7'; dlerror: libnvinfer_plugin.so.7: cannot open shared object file: No such file or directory\n",
      "2024-11-08 13:56:02.393339: W tensorflow/compiler/tf2tensorrt/utils/py_utils.cc:38] TF-TRT Warning: Cannot dlopen some TensorRT libraries. If you would like to use Nvidia GPU with TensorRT, please make sure the missing libraries mentioned above are installed properly.\n"
     ]
    }
   ],
   "source": [
    "from tensorflow.keras.datasets import mnist\n",
    "import tensorflow as tf\n",
    "\n",
    "from sklearn.metrics import accuracy_score"
   ]
  },
  {
   "cell_type": "code",
   "execution_count": 3,
   "id": "7acc75b3-ad99-4322-bc38-dee26fec99bf",
   "metadata": {},
   "outputs": [],
   "source": [
    "mnist = np.load('mnist.npz')\n",
    "\n",
    "\n",
    "x_train=mnist['x_train']\n",
    "x_test=mnist['x_test']\n",
    "\n",
    "y_train=mnist['y_train']\n",
    "y_test=mnist['y_test']\n"
   ]
  },
  {
   "cell_type": "code",
   "execution_count": 4,
   "id": "8d58febe-d62f-4e95-8c4f-098dda23f59d",
   "metadata": {},
   "outputs": [],
   "source": [
    "#load and normalize MNIST data\n",
    "\n",
    "#(x_train,y_train), (x_test,y_test) = mnist.load_data()\n",
    "\n",
    "x_train=x_train.reshape(-1,28*28).astype(\"float32\")/255.0\n",
    "x_test=x_test.reshape(-1,28*28).astype(\"float32\")/255.0\n",
    "\n",
    "y=tf.keras.utils.to_categorical(y_train, num_classes = 10)"
   ]
  },
  {
   "cell_type": "code",
   "execution_count": 13,
   "id": "d02ac8e9-a14d-423d-8bb1-bd45a91f92e1",
   "metadata": {},
   "outputs": [],
   "source": []
  },
  {
   "cell_type": "code",
   "execution_count": 5,
   "id": "df68cf13-e6eb-4258-8978-95aee0ad79ed",
   "metadata": {},
   "outputs": [],
   "source": [
    "N_in = np.linspace(600, 800, 1000)\n",
    "\n",
    "eps_in = np.full((1000),0.1)#np.linspace(.001, 100, 1000)\n",
    "\n",
    "epsilon_in = np.full((1000),50)#np.linspace(.1, 100, 1000)\n",
    "\n",
    "phi_in = np.full((1000),1.5513)#np.linspace(0, np.pi, 1000)\n",
    "\n",
    "alpha_in = np.full((1000),1)#np.linspace(0,3, 1000)"
   ]
  },
  {
   "cell_type": "code",
   "execution_count": 6,
   "id": "77ffa1af-9167-4b47-bc02-421384df2510",
   "metadata": {},
   "outputs": [],
   "source": [
    "#parameters for the recurrent layer\n",
    "\n",
    "dt = 0.001\n",
    "T = 5.0\n",
    "t=np.arange(0,T,dt)\n",
    "\n",
    "# N = 101                          #number of nodes in the cv-NN\n",
    "# epsilon = 50\n",
    "# phi = 1.5513                     #delay parameter\n",
    "# alpha = 1.0 #power-law for the connectivity\n",
    "\n",
    "f_mu = 5                          #(Hz) natural frequency\n",
    "\n",
    "\n",
    "num=1500 # number of training samples \n",
    "\n",
    "\n",
    "\n",
    "\n",
    "def distance_dependent_graph(N, alpha):\n",
    "    \"\"\"\n",
    "    Generates a distance-dependent graph based on a power-law for connectivity.\n",
    "\n",
    "    Parameters:\n",
    "    N (int): Number of nodes.\n",
    "    alpha (float): Power-law exponent.\n",
    "\n",
    "    Returns:\n",
    "    numpy.ndarray: The adjacency matrix (weighted) representing the network.\n",
    "    \"\"\"\n",
    "    # Initialize the adjacency matrix (A) and distance matrix (d)\n",
    "    A = np.zeros((N, N))\n",
    "    d = np.full((N, N), np.nan)\n",
    "\n",
    "    # Calculate the distance between each pair of nodes considering periodic boundaries\n",
    "    for ii in range(N):\n",
    "        for jj in range(N):\n",
    "            if ii == jj:\n",
    "                continue  # Skip self-loops\n",
    "            dist = abs(ii - jj)\n",
    "            d[ii, jj] = min(dist, N - dist)  # Use periodic boundary conditions\n",
    "\n",
    "    # Calculate the normalization factor eta\n",
    "    eta = np.nansum(1.0 / d[0, :] ** alpha)\n",
    "\n",
    "    # Calculate the adjacency matrix A using the power-law\n",
    "    A = (1.0 / eta) * (1.0 / d ** alpha)\n",
    "\n",
    "    # Ensure diagonal elements are zero (no self-loops)\n",
    "    np.fill_diagonal(A, 0)\n",
    "\n",
    "    return A\n"
   ]
  },
  {
   "cell_type": "code",
   "execution_count": 7,
   "id": "3584d943-4799-4eb1-80cc-f12ae7cc4b23",
   "metadata": {},
   "outputs": [],
   "source": [
    "#Input\n",
    "\n",
    "def cv_NN_input(x_train,num):\n",
    "    input_data = np.zeros((num,len(t)))\n",
    "    gt = np.zeros((num, 28*28))  # Initialize gt array with zeros\n",
    "\n",
    "    for i in range(num):\n",
    "\n",
    "        # Flatten, normalize, and reshape the digit data\n",
    "        #gt[i,:] = (digits[1, :, :]+noise*0).reshape(28 * 28)\n",
    "        gt[i,:] = (x_train[i, :])\n",
    "\n",
    "\n",
    "        #gt[i,:] /= np.max(gt[i, :])\n",
    "\n",
    "            # Assign the processed data to the input vector\n",
    "        for tt in range(len(t) - len(gt[i, :]), len(t)):\n",
    "            input_data[i, tt] = gt[i, tt - (len(t) - len(gt[i, :]))]\n",
    "            \n",
    "    return input_data\n",
    "\n",
    "\n",
    "\n",
    "def cv_NN_state(inputD,num,N,alpha,eps,epsilon,phi):\n",
    "    \n",
    "    omega = (f_mu*np.ones((N,1)))*2*np.pi   #natural frequency\n",
    "    \n",
    "    eps = 0.1\n",
    "    w_in = eps * np.random.rand(N, 1)\n",
    "    \n",
    "    # Adjacency matrix (recurrent layer)\n",
    "    a = distance_dependent_graph(N, alpha)\n",
    "\n",
    "    K = epsilon * np.exp(-1j * phi) * a\n",
    "\n",
    "    # Initial condition\n",
    "    np.random.seed(367)\n",
    "    x_0 = np.random.rand(N) * np.exp(1j * 2 * np.pi * (np.random.rand(N) - 0.5))\n",
    "    \n",
    "    x_th = np.zeros((num, N), dtype=complex)\n",
    "    \n",
    "    x_th_i = np.zeros((len(t), N), dtype=complex)\n",
    "    \n",
    "    propagate = np.exp(1j * omega * dt) * expm(dt * K)\n",
    "    x_th_i[0, :] = x_0\n",
    "\n",
    "    for i in range(num):\n",
    "\n",
    "        for j in range(1, len(t)):\n",
    "            x_th_i[j, :] = propagate @ x_th_i[j - 1, :] + inputD[i, j]#w_in.flatten() * inputD[i, j]\n",
    "            \n",
    "        x_th[i,:]=x_th_i[-1,:]\n",
    "            \n",
    "    return x_th\n",
    "\n",
    "\n",
    "\n",
    "def lin_reg(x_th,D,x,print_res=False):\n",
    "    X = x_th #x_th[:,-1, :] #state of the the NN at final time step\n",
    "    \n",
    "    X_b=x #x[:,-1, :] #for prediction\n",
    "\n",
    "    V=np.linalg.pinv(X.conj().T @ X)@X.conj().T@D\n",
    "    \n",
    "    pred=[]\n",
    "    truth=[]\n",
    "    \n",
    "    for i in range(len(X_b)):\n",
    "        res=X_b[i:i+1,:]@V\n",
    "        \n",
    "        pred.append(np.argmax(abs(res)))\n",
    "        \n",
    "        truth.append(np.argmax(D[i,:]))\n",
    "        \n",
    "        if print_res:\n",
    "\n",
    "            print('prediction->',np.argmax(abs(res)),'Ground truth->',np.argmax(D[i,:]),np.max(abs(res)))\n",
    "    \n",
    "\n",
    "    \n",
    "    \n",
    "    return pred,truth\n",
    "\n",
    "\n",
    "\n",
    "\n"
   ]
  },
  {
   "cell_type": "code",
   "execution_count": null,
   "id": "dcaaa121-7976-4706-ac64-a6552b4c01f1",
   "metadata": {},
   "outputs": [
    {
     "name": "stderr",
     "output_type": "stream",
     "text": [
      "  0%|          | 0/15 [00:00<?, ?it/s]"
     ]
    }
   ],
   "source": [
    "# Just saves last time step\n",
    "\n",
    "#Linear Regression\n",
    "\n",
    "#D=x_th @ v\n",
    "\n",
    "D=y[0:num,:]\n",
    "\n",
    "D += 0.00001 * np.random.rand(*D.shape)\n",
    "#D=D.T\n",
    "D.shape\n",
    "\n",
    "start = time.time()\n",
    "#Initial condition\n",
    "\n",
    "\n",
    "phi_lst=[]\n",
    "N_lst=[]\n",
    "alpha_lst=[]\n",
    "eps_lst=[]\n",
    "epsilon_lst=[]\n",
    "\n",
    "accuracy_lst=[]\n",
    "test_accuracy_lst=[]\n",
    "\n",
    "for i in tqdm(range(0,15)):\n",
    "    phi=np.random.choice(phi_in)\n",
    "    N=int(np.random.choice(N_in))\n",
    "    eps=np.random.choice(eps_in)\n",
    "    epsilon=np.random.choice(epsilon_in)\n",
    "    alpha=np.random.choice(alpha_in)\n",
    "\n",
    "\n",
    "    input_data=cv_NN_input(x_train,num)\n",
    "\n",
    "    x_th=cv_NN_state(input_data,num,N,alpha,eps,epsilon,phi)\n",
    "    \n",
    "    \n",
    "    \n",
    "    \n",
    "    # phi_lst.append(phi)\n",
    "    \n",
    "    N_lst.append(N)\n",
    "    # alpha_lst.append(alpha)\n",
    "    # eps_lst.append(eps)\n",
    "    # epsilon_lst.append(epsilon)\n",
    "    \n",
    "    pred,truth=lin_reg(x_th,D,x_th,print_res=False)\n",
    "    \n",
    "    acc=accuracy_score(pred,truth,normalize=True)\n",
    "    \n",
    "    accuracy_lst.append(acc)\n",
    "    \n",
    "    acc_np=np.array(accuracy_lst)\n",
    "    N_np=np.array(N_lst)    \n",
    "    \n",
    "    #np.save('acc_N3.npy',acc_np)\n",
    "    n#p.save('N3.npy',N_np)\n",
    "\n",
    "\n",
    "\n",
    "\n",
    "end = time.time()\n",
    "print(end - start)"
   ]
  },
  {
   "cell_type": "code",
   "execution_count": 19,
   "id": "14192081-4566-4612-a135-b2d1f89a4938",
   "metadata": {},
   "outputs": [
    {
     "data": {
      "text/plain": [
       "array([0.61533333, 0.62      , 0.61533333, 0.61666667, 0.62733333,\n",
       "       0.60733333, 0.61733333, 0.62      , 0.616     , 0.626     ,\n",
       "       0.616     , 0.61866667, 0.61733333, 0.618     , 0.62      ])"
      ]
     },
     "execution_count": 19,
     "metadata": {},
     "output_type": "execute_result"
    }
   ],
   "source": [
    "acc_np"
   ]
  },
  {
   "cell_type": "code",
   "execution_count": 13,
   "id": "db1a368b-241b-4a88-a37d-f61785c487dd",
   "metadata": {},
   "outputs": [],
   "source": [
    "a=[1,1,1]\n",
    "b=[2,2,2]\n"
   ]
  },
  {
   "cell_type": "code",
   "execution_count": null,
   "id": "9ae7c122-0398-419b-9f83-5f77b2035944",
   "metadata": {},
   "outputs": [],
   "source": []
  },
  {
   "cell_type": "code",
   "execution_count": 12,
   "id": "0408c391-37f4-4ee7-b146-a454b51e2408",
   "metadata": {},
   "outputs": [
    {
     "data": {
      "text/plain": [
       "0.132"
      ]
     },
     "execution_count": 12,
     "metadata": {},
     "output_type": "execute_result"
    }
   ],
   "source": [
    "#train accuracy\n",
    "\n",
    "\n",
    "accuracy_score(pred,truth,normalize=True)"
   ]
  },
  {
   "cell_type": "markdown",
   "id": "c263da18-d1f3-423b-a266-f79914d431f4",
   "metadata": {},
   "source": [
    "## Testing"
   ]
  },
  {
   "cell_type": "code",
   "execution_count": 16,
   "id": "1a22732e-171e-44ec-8794-b533db676018",
   "metadata": {},
   "outputs": [],
   "source": [
    "num_test=100\n",
    "\n",
    "X_t=x_test[:num_test,:]\n",
    "\n",
    "D_t=tf.keras.utils.to_categorical(y_test[:num_test], num_classes = 10)\n",
    "D_t += 0.001 * np.random.rand(*D_t.shape)\n",
    "#D_t = D_t.T"
   ]
  },
  {
   "cell_type": "code",
   "execution_count": 17,
   "id": "0da22ece-a09d-42e0-aa9a-64d060bba5a7",
   "metadata": {},
   "outputs": [],
   "source": [
    "test_data=cv_NN_input(X_t,num=num_test)\n",
    "x_th_test=cv_NN_state(test_data,num=num_test)"
   ]
  },
  {
   "cell_type": "code",
   "execution_count": 18,
   "id": "43b0b923-cbfa-4747-9533-fcb58651b89b",
   "metadata": {},
   "outputs": [
    {
     "data": {
      "text/plain": [
       "0.13"
      ]
     },
     "execution_count": 18,
     "metadata": {},
     "output_type": "execute_result"
    }
   ],
   "source": [
    "# reg=lin_reg(x_th,D,x_th)\n",
    "\n",
    "pred_test,truth_test=lin_reg(x_th,D,x_th_test,print_res=False)\n",
    "\n",
    "accuracy_score(pred_test,truth_test,normalize=True)"
   ]
  },
  {
   "cell_type": "code",
   "execution_count": null,
   "id": "11aedeec-a688-4906-a638-bd38aaa9a945",
   "metadata": {},
   "outputs": [],
   "source": []
  }
 ],
 "metadata": {
  "kernelspec": {
   "display_name": "GW_ENV",
   "language": "python",
   "name": "gw_env"
  },
  "language_info": {
   "codemirror_mode": {
    "name": "ipython",
    "version": 3
   },
   "file_extension": ".py",
   "mimetype": "text/x-python",
   "name": "python",
   "nbconvert_exporter": "python",
   "pygments_lexer": "ipython3",
   "version": "3.10.2"
  }
 },
 "nbformat": 4,
 "nbformat_minor": 5
}
